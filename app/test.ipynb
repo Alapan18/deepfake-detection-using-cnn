{
 "cells": [
  {
   "cell_type": "code",
   "execution_count": 2,
   "metadata": {},
   "outputs": [
    {
     "name": "stdout",
     "output_type": "stream",
     "text": [
      "Success : audio file has been saved to \"C:\\Users\\alapa\\Documents\\Deepfake_detection_using_deep_learning-master\\Deepfake_detection_using_deep_learning-master\\testcases\\Untitled audio.wav.mp3\".\n"
     ]
    }
   ],
   "source": [
    "from audio_extract import extract_audio\n",
    "extract_audio(input_path=\"C:/Users/alapa/Documents/Deepfake_detection_using_deep_learning-master/Deepfake_detection_using_deep_learning-master/testcases/Untitled video - Made with Clipchamp (4).mp4\", output_path=\"C:/Users/alapa/Documents/Deepfake_detection_using_deep_learning-master/Deepfake_detection_using_deep_learning-master/testcases/Untitled audio.wav\")"
   ]
  }
 ],
 "metadata": {
  "kernelspec": {
   "display_name": "Python 3",
   "language": "python",
   "name": "python3"
  },
  "language_info": {
   "codemirror_mode": {
    "name": "ipython",
    "version": 3
   },
   "file_extension": ".py",
   "mimetype": "text/x-python",
   "name": "python",
   "nbconvert_exporter": "python",
   "pygments_lexer": "ipython3",
   "version": "3.12.6"
  }
 },
 "nbformat": 4,
 "nbformat_minor": 2
}
