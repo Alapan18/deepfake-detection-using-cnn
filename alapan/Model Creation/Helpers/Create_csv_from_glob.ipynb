{
 "cells": [
  {
   "cell_type": "code",
   "execution_count": 30,
   "metadata": {},
   "outputs": [],
   "source": [
    "import glob\n",
    "import pandas as pd"
   ]
  },
  {
   "cell_type": "code",
   "execution_count": 31,
   "metadata": {},
   "outputs": [
    {
     "name": "stdout",
     "output_type": "stream",
     "text": [
      "795\n"
     ]
    }
   ],
   "source": [
    "video_files = glob.glob(\"C:/Users/alapa/Documents/Deepfake_detection_using_deep_learning-master/Deepfake_detection_using_deep_learning-master/Celeb-DF/Celeb-synthesis/*.mp4\")\n",
    "print((len(video_files)))"
   ]
  },
  {
   "cell_type": "code",
   "execution_count": 32,
   "metadata": {},
   "outputs": [],
   "source": [
    "names =[]\n",
    "status = []"
   ]
  },
  {
   "cell_type": "code",
   "execution_count": 33,
   "metadata": {},
   "outputs": [],
   "source": [
    "\n",
    "for i in video_files:\n",
    "    names.append(i.split(\"\\\\\")[-1])\n",
    "    status.append(\"FAKE\")"
   ]
  },
  {
   "cell_type": "code",
   "execution_count": 34,
   "metadata": {},
   "outputs": [],
   "source": [
    "dict = { 'Name': names ,\n",
    "        'Status': status }"
   ]
  },
  {
   "cell_type": "code",
   "execution_count": 35,
   "metadata": {},
   "outputs": [
    {
     "data": {
      "text/html": [
       "<div>\n",
       "<style scoped>\n",
       "    .dataframe tbody tr th:only-of-type {\n",
       "        vertical-align: middle;\n",
       "    }\n",
       "\n",
       "    .dataframe tbody tr th {\n",
       "        vertical-align: top;\n",
       "    }\n",
       "\n",
       "    .dataframe thead th {\n",
       "        text-align: right;\n",
       "    }\n",
       "</style>\n",
       "<table border=\"1\" class=\"dataframe\">\n",
       "  <thead>\n",
       "    <tr style=\"text-align: right;\">\n",
       "      <th></th>\n",
       "      <th>Name</th>\n",
       "      <th>Status</th>\n",
       "    </tr>\n",
       "  </thead>\n",
       "  <tbody>\n",
       "    <tr>\n",
       "      <th>0</th>\n",
       "      <td>id0_id16_0000.mp4</td>\n",
       "      <td>FAKE</td>\n",
       "    </tr>\n",
       "    <tr>\n",
       "      <th>1</th>\n",
       "      <td>id0_id16_0001.mp4</td>\n",
       "      <td>FAKE</td>\n",
       "    </tr>\n",
       "    <tr>\n",
       "      <th>2</th>\n",
       "      <td>id0_id16_0002.mp4</td>\n",
       "      <td>FAKE</td>\n",
       "    </tr>\n",
       "    <tr>\n",
       "      <th>3</th>\n",
       "      <td>id0_id16_0003.mp4</td>\n",
       "      <td>FAKE</td>\n",
       "    </tr>\n",
       "    <tr>\n",
       "      <th>4</th>\n",
       "      <td>id0_id16_0004.mp4</td>\n",
       "      <td>FAKE</td>\n",
       "    </tr>\n",
       "    <tr>\n",
       "      <th>...</th>\n",
       "      <td>...</td>\n",
       "      <td>...</td>\n",
       "    </tr>\n",
       "    <tr>\n",
       "      <th>790</th>\n",
       "      <td>id9_id6_0005.mp4</td>\n",
       "      <td>FAKE</td>\n",
       "    </tr>\n",
       "    <tr>\n",
       "      <th>791</th>\n",
       "      <td>id9_id6_0006.mp4</td>\n",
       "      <td>FAKE</td>\n",
       "    </tr>\n",
       "    <tr>\n",
       "      <th>792</th>\n",
       "      <td>id9_id6_0007.mp4</td>\n",
       "      <td>FAKE</td>\n",
       "    </tr>\n",
       "    <tr>\n",
       "      <th>793</th>\n",
       "      <td>id9_id6_0008.mp4</td>\n",
       "      <td>FAKE</td>\n",
       "    </tr>\n",
       "    <tr>\n",
       "      <th>794</th>\n",
       "      <td>id9_id6_0009.mp4</td>\n",
       "      <td>FAKE</td>\n",
       "    </tr>\n",
       "  </tbody>\n",
       "</table>\n",
       "<p>795 rows × 2 columns</p>\n",
       "</div>"
      ],
      "text/plain": [
       "                  Name Status\n",
       "0    id0_id16_0000.mp4   FAKE\n",
       "1    id0_id16_0001.mp4   FAKE\n",
       "2    id0_id16_0002.mp4   FAKE\n",
       "3    id0_id16_0003.mp4   FAKE\n",
       "4    id0_id16_0004.mp4   FAKE\n",
       "..                 ...    ...\n",
       "790   id9_id6_0005.mp4   FAKE\n",
       "791   id9_id6_0006.mp4   FAKE\n",
       "792   id9_id6_0007.mp4   FAKE\n",
       "793   id9_id6_0008.mp4   FAKE\n",
       "794   id9_id6_0009.mp4   FAKE\n",
       "\n",
       "[795 rows x 2 columns]"
      ]
     },
     "execution_count": 35,
     "metadata": {},
     "output_type": "execute_result"
    }
   ],
   "source": [
    "df = pd.DataFrame(dict)\n",
    "df"
   ]
  },
  {
   "cell_type": "code",
   "execution_count": 36,
   "metadata": {},
   "outputs": [],
   "source": [
    "df.to_csv(\"C:/Users/alapa/Documents/Deepfake_detection_using_deep_learning-master/Deepfake_detection_using_deep_learning-master/abhijit/Model Creation/labels/small/Celeb-synthesis.csv\",header=False,index=False)"
   ]
  },
  {
   "cell_type": "code",
   "execution_count": 37,
   "metadata": {},
   "outputs": [],
   "source": [
    "# Read the CSV files into DataFrames\n",
    "df1 = pd.read_csv('C:/Users/alapa/Documents/Deepfake_detection_using_deep_learning-master/Deepfake_detection_using_deep_learning-master/abhijit/Model Creation/labels/small/Celeb-real.csv' , header=None)\n",
    "df2 = pd.read_csv('C:/Users/alapa/Documents/Deepfake_detection_using_deep_learning-master/Deepfake_detection_using_deep_learning-master/abhijit/Model Creation/labels/small/Celeb-Synthesis.csv', header=None)\n",
    "df3 = pd.read_csv('C:/Users/alapa/Documents/Deepfake_detection_using_deep_learning-master/Deepfake_detection_using_deep_learning-master/abhijit/Model Creation/labels/small/YouTube-real.csv', header=None)\n",
    "\n",
    "\n",
    "combined_df = pd.concat([df1, df2, df3], ignore_index=True)\n",
    "\n",
    "# Write the combined DataFrame to a new CSV file\n",
    "combined_df.to_csv('C:/Users/alapa/Documents/Deepfake_detection_using_deep_learning-master/Deepfake_detection_using_deep_learning-master/abhijit/Model Creation/labels/small/Global_metadata.csv', index=False , header= False)\n"
   ]
  },
  {
   "cell_type": "code",
   "execution_count": 8,
   "metadata": {},
   "outputs": [],
   "source": [
    "import pandas as pd\n",
    "\n",
    "# Read the CSV files into DataFrames\n",
    "df1 = pd.read_csv('C:/Users/alapa/Documents/Deepfake_detection_using_deep_learning-master/Deepfake_detection_using_deep_learning-master/abhijit/Model Creation/labels/dfdc/metadata12.csv', header=None)\n",
    "df2 = pd.read_csv('C:/Users/alapa/Documents/Deepfake_detection_using_deep_learning-master/Deepfake_detection_using_deep_learning-master/abhijit/Model Creation/labels/dfdc/metadata11.csv', header=None)\n",
    "\n",
    "# Combine the DataFrames\n",
    "combined_df = pd.concat([df1, df2], ignore_index=True)\n",
    "\n",
    "# Shuffle the rows\n",
    "shuffled_df = combined_df.sample(frac=1).reset_index(drop=True)\n",
    "\n",
    "# Write the shuffled DataFrame to a new CSV file\n",
    "shuffled_df.to_csv('C:/Users/alapa/Documents/Deepfake_detection_using_deep_learning-master/Deepfake_detection_using_deep_learning-master/abhijit/Model Creation/labels/dfdc/Global_metadata.csv', index=False, header=False)\n"
   ]
  },
  {
   "cell_type": "code",
   "execution_count": 5,
   "metadata": {},
   "outputs": [],
   "source": [
    "import pandas as pd"
   ]
  },
  {
   "cell_type": "code",
   "execution_count": 6,
   "metadata": {},
   "outputs": [
    {
     "name": "stdout",
     "output_type": "stream",
     "text": [
      "              URI label\n",
      "0  ufucquemsr.mp4  FAKE\n",
      "1  hzpeccyres.mp4  FAKE\n",
      "2  qlrzbtcbbh.mp4  FAKE\n",
      "3  voztvddhnf.mp4  FAKE\n",
      "4  hollmfvplq.mp4  FAKE\n"
     ]
    }
   ],
   "source": [
    "\n",
    "path_json = f\"C:/Users/alapa/Documents/Deepfake_detection_using_deep_learning-master/Deepfake_detection_using_deep_learning-master/dfdc/dfdc_train_part_12/metadata.json\"\n",
    "path_csv = f\"C:/Users/alapa/Documents/Deepfake_detection_using_deep_learning-master/Deepfake_detection_using_deep_learning-master/abhijit/Model Creation/labels/dfdc/metadata12.csv\"\n",
    "\n",
    "read_json = pd.read_json(path_json)\n",
    "df = pd.DataFrame(read_json).transpose()\n",
    "df_filtered = df[['label']].reset_index()\n",
    "df_filtered.columns = ['URI', 'label']\n",
    "\n",
    "df_filtered.to_csv(path_csv, index=False, header=False)\n",
    "\n",
    "print(df_filtered.head(5))\n"
   ]
  },
  {
   "cell_type": "code",
   "execution_count": 7,
   "metadata": {},
   "outputs": [
    {
     "name": "stdout",
     "output_type": "stream",
     "text": [
      "Real videos: 320\n",
      "Fake videos: 1905\n"
     ]
    }
   ],
   "source": [
    "real_count = df_filtered[df_filtered['label'] == 'REAL'].shape[0]\n",
    "fake_count = df_filtered[df_filtered['label'] == 'FAKE'].shape[0]\n",
    "\n",
    "print(f\"Real videos: {real_count}\")\n",
    "print(f\"Fake videos: {fake_count}\")"
   ]
  },
  {
   "cell_type": "code",
   "execution_count": null,
   "metadata": {},
   "outputs": [],
   "source": []
  }
 ],
 "metadata": {
  "kernelspec": {
   "display_name": "Python 3",
   "language": "python",
   "name": "python3"
  },
  "language_info": {
   "codemirror_mode": {
    "name": "ipython",
    "version": 3
   },
   "file_extension": ".py",
   "mimetype": "text/x-python",
   "name": "python",
   "nbconvert_exporter": "python",
   "pygments_lexer": "ipython3",
   "version": "3.12.5"
  }
 },
 "nbformat": 4,
 "nbformat_minor": 2
}
